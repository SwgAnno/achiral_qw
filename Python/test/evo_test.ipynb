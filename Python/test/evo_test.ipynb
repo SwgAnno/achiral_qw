{
 "cells": [
  {
   "cell_type": "code",
   "execution_count": null,
   "metadata": {},
   "outputs": [],
   "source": [
    "import matplotlib.pyplot as plt\n",
    "import numpy as np\n",
    "\n",
    "import achiralqw as aqw\n",
    "\n",
    "from achiralqw.graph import QWGraph, QWGraphBuilder as qwgb\n",
    "from achiralqw.plotter import plot_qwgraph, plot_evo_mat\n",
    "from achiralqw.collection import CachedQWGraphCollection\n",
    "\n",
    "from achiralqw.article import * "
   ]
  },
  {
   "cell_type": "code",
   "execution_count": null,
   "metadata": {},
   "outputs": [],
   "source": [
    "unit = QWGraphBuilder.Ring(4)\n",
    "chain = unit.chain(5,HANDLES = True )\n",
    "chain.update_eigen()"
   ]
  },
  {
   "cell_type": "code",
   "execution_count": null,
   "metadata": {},
   "outputs": [],
   "source": [
    "an = Analyzer(chain, opt_mode = \"smart\" )\n",
    "plot_evo_mat(chain, TC = 1, filter = \"target\")"
   ]
  },
  {
   "cell_type": "code",
   "execution_count": null,
   "metadata": {},
   "outputs": [],
   "source": [
    "plot_chain_progression(unit, bounds = (10,100))"
   ]
  },
  {
   "cell_type": "code",
   "execution_count": null,
   "metadata": {},
   "outputs": [],
   "source": []
  }
 ],
 "metadata": {
  "kernelspec": {
   "display_name": "base",
   "language": "python",
   "name": "python3"
  },
  "language_info": {
   "codemirror_mode": {
    "name": "ipython",
    "version": 3
   },
   "file_extension": ".py",
   "mimetype": "text/x-python",
   "name": "python",
   "nbconvert_exporter": "python",
   "pygments_lexer": "ipython3",
   "version": "3.10.9"
  }
 },
 "nbformat": 4,
 "nbformat_minor": 2
}
