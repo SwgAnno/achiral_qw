{
 "cells": [
  {
   "cell_type": "code",
   "execution_count": null,
   "metadata": {},
   "outputs": [],
   "source": [
    "import matplotlib.pyplot as plt\n",
    "import numpy as np\n",
    "\n",
    "import achiralqw as aqw\n",
    "\n",
    "from achiralqw.graph import QWGraph, QWGraphBuilder as qwgb\n",
    "from achiralqw.plotter import plot_qwgraph\n",
    "from achiralqw.collection import CachedQWGraphCollection\n",
    "\n",
    "from achiralqw.article import * "
   ]
  },
  {
   "cell_type": "code",
   "execution_count": null,
   "metadata": {},
   "outputs": [],
   "source": [
    "#log log progression\n",
    "an = Analyzer(mode = \"first\")\n",
    "plot_chain_progression_multi_loglog(bounds = (5,100), points = 50, target = \"p\", analyzer = an, fast = True)"
   ]
  },
  {
   "cell_type": "code",
   "execution_count": null,
   "metadata": {},
   "outputs": [],
   "source": [
    "unit = QWGraphBuilder.Ring(4)\n",
    "fast_analyzer_C3 =     Analyzer( solver_mode= \"eigen\", mode = \"first\", opt_mode = \"fix\", diag = True, gr = QWGraphBuilder.Ring(4))\n",
    "fast_analyzer_C3.set_fix_phi( opt_mode = \"smart\")\n",
    "print(fast_analyzer_C3.get_fix_phi())\n",
    "ax = plot_chain_progression(unit, bounds = (5,100), step = 5, analyzer = fast_analyzer_C3)\n",
    "ax.set_yscale(\"log\")\n",
    "ax.set_xscale(\"log\")\n",
    "ax.set_ylim(top = 1, bottom = .4)"
   ]
  },
  {
   "cell_type": "code",
   "execution_count": null,
   "metadata": {},
   "outputs": [],
   "source": [
    "#log log progression\n",
    "an = Analyzer(mode = \"first\")\n",
    "plot_chain_progression_multi_loglog(bounds = (300,1000), points = 50, target = \"p\", analyzer = an, fast = True)"
   ]
  },
  {
   "cell_type": "code",
   "execution_count": null,
   "metadata": {},
   "outputs": [],
   "source": [
    "#Asymptotics for C4 chains\n",
    "\n",
    "unit = QWGraphBuilder.Ring(4)\n",
    "an = Analyzer(mode = \"first\")\n",
    "an.set_opt_mode(\"fix\")\n",
    "an.set_diag(True)\n",
    "an.set_gr(unit)\n",
    "an.set_fix_phi( an.optimum_phase_smart()[0])\n",
    "\n",
    "cb = CollectionBuilder()\n"
   ]
  },
  {
   "cell_type": "code",
   "execution_count": null,
   "metadata": {},
   "outputs": [],
   "source": [
    "#Asymptotics model for C4 chain\n",
    "\n",
    "c4model_collection = cb.log_chain_progression(unit, bounds = (4,500), points = 50, analyzer = an)\n",
    "\n",
    "poly_params = c4model_collection.transport_prob_model() \n",
    "custom_params = c4model_collection.transport_prob_model(mode = \"custom\") "
   ]
  },
  {
   "cell_type": "code",
   "execution_count": null,
   "metadata": {},
   "outputs": [],
   "source": [
    "x, data = c4model_collection.get_data()"
   ]
  },
  {
   "cell_type": "code",
   "execution_count": null,
   "metadata": {},
   "outputs": [],
   "source": [
    "fig, axx = plt.subplots(1,2, figsize = (10,5))\n",
    "\n",
    "axx[0].plot(x,data, marker = \".\", label = \"data\")\n",
    "axx[1].plot(x,data, marker = \".\", label = \"data\")\n",
    "\n",
    "axx[0].set_xscale(\"log\")\n",
    "axx[0].set_yscale(\"log\")\n",
    "axx[0].set_ylim(.01,1)\n",
    "\n",
    "axx[1].set_ylim(0,1)\n",
    "axx[1].set_xscale(\"log\")\n",
    "\n",
    "sample = np.geomspace(4, 500, 100)\n",
    "\n",
    "def custom_model(x,a,b,c):\n",
    "    return np.exp(a*np.log(x) + b + c/np.log(x))\n",
    "\n",
    "def poly_model(x,a,b,c):\n",
    "    return np.exp(a*(np.log(x)**2) + b*np.log(x) + c)\n",
    "\n",
    "print(custom_model(10, *custom_params))\n",
    "print(poly_model(10, *poly_params))\n",
    "\n",
    "custom_data = [custom_model(x, *custom_params) for x in sample]\n",
    "axx[0].plot(sample, custom_data, label = \"1/x model\")\n",
    "axx[1].plot(sample, custom_data, label = \"1/x model\")\n",
    "\n",
    "poly_data = [poly_model(x, *poly_params) for x in sample]\n",
    "axx[0].plot(sample, poly_data, label = \"deg2 poly\")\n",
    "axx[1].plot(sample, poly_data, label = \"deg2 poly\")\n",
    "\n",
    "axx[0].legend()\n",
    "axx[1].legend()\n"
   ]
  },
  {
   "cell_type": "code",
   "execution_count": null,
   "metadata": {},
   "outputs": [],
   "source": [
    "my_c = cb.log_chain_progression(unit, bounds = (300,1000), points = 20, analyzer = an)\n",
    "m,q = my_c.transport_prob_loglog_lm()"
   ]
  },
  {
   "cell_type": "code",
   "execution_count": null,
   "metadata": {},
   "outputs": [],
   "source": [
    "#Asymptotics for C3 chain\n",
    "\n",
    "unit = QWGraphBuilder.Ring(3)\n",
    "an = Analyzer(mode = \"first\")\n",
    "an.set_opt_mode(\"fix\")\n",
    "an.set_diag(True)\n",
    "an.set_gr(unit)\n",
    "an.set_fix_phi( an.optimum_phase_smart()[0])\n",
    "print(an.optimum_phase_smart()[0])\n",
    "print(an.performance_diag(an.optimum_phase_smart()[0]),an.opt_mode, an.diag)\n",
    "\n",
    "cb = CollectionBuilder()"
   ]
  },
  {
   "cell_type": "code",
   "execution_count": null,
   "metadata": {},
   "outputs": [],
   "source": [
    "#Asymptotics model for C3 chain\n",
    "\n",
    "c3model_collection = cb.log_chain_progression(unit, bounds = (4,500), points = 50, analyzer = an)\n",
    "\n",
    "poly_params = c3model_collection.transport_prob_model() \n",
    "custom_params = c3model_collection.transport_prob_model(mode = \"custom\") "
   ]
  },
  {
   "cell_type": "code",
   "execution_count": null,
   "metadata": {},
   "outputs": [],
   "source": [
    "x, data = c3model_collection.get_data()"
   ]
  },
  {
   "cell_type": "code",
   "execution_count": null,
   "metadata": {},
   "outputs": [],
   "source": [
    "fig, axx = plt.subplots(1,2, figsize = (10,5))\n",
    "\n",
    "axx[0].plot(x,data,  marker = \".\",label = \"data\")\n",
    "axx[1].plot(x,data,  marker = \".\",label = \"data\")\n",
    "\n",
    "axx[0].set_xscale(\"log\")\n",
    "axx[0].set_yscale(\"log\")\n",
    "axx[0].set_ylim(.01,1)\n",
    "\n",
    "axx[1].set_ylim(0,1)\n",
    "axx[1].set_xscale(\"log\")\n",
    "\n",
    "sample = np.geomspace(4, 500, 100)\n",
    "\n",
    "def custom_model(x,a,b,c):\n",
    "    return np.exp(a*np.log(x) + b + c/np.log(x))\n",
    "\n",
    "def poly_model(x,a,b,c):\n",
    "    return np.exp(a*(np.log(x)**2) + b*np.log(x) + c)\n",
    "\n",
    "print(custom_model(10, *custom_params))\n",
    "print(poly_model(10, *poly_params))\n",
    "\n",
    "custom_data = [custom_model(x, *custom_params) for x in sample]\n",
    "axx[0].plot(sample, custom_data, label = \"1/x model\")\n",
    "axx[1].plot(sample, custom_data, label = \"1/x model\")\n",
    "\n",
    "poly_data = [poly_model(x, *poly_params) for x in sample]\n",
    "axx[0].plot(sample, poly_data, label = \"deg2 poly\")\n",
    "axx[1].plot(sample, poly_data, label = \"deg2 poly\")\n",
    "\n",
    "axx[0].legend()\n",
    "axx[1].legend()\n"
   ]
  },
  {
   "cell_type": "code",
   "execution_count": null,
   "metadata": {},
   "outputs": [],
   "source": [
    "c3collection = cb.log_chain_progression(unit, bounds = (300,1000), points = 20, analyzer = an)\n",
    "m,q = c3collection.transport_prob_loglog_lm()"
   ]
  },
  {
   "cell_type": "code",
   "execution_count": null,
   "metadata": {},
   "outputs": [],
   "source": [
    "#Asymptotics for kite chain\n",
    "\n",
    "unit = QWGraphBuilder.SquareCut()\n",
    "an = Analyzer(mode = \"first\")\n",
    "an.set_opt_mode(\"fix\")\n",
    "an.set_diag(True)\n",
    "an.set_gr(unit)\n",
    "an.set_fix_phi( an.optimum_phase_smart()[0])\n",
    "\n",
    "cb = CollectionBuilder()\n"
   ]
  },
  {
   "cell_type": "code",
   "execution_count": null,
   "metadata": {},
   "outputs": [],
   "source": [
    "#Asymptotics model for kyte chain\n",
    "\n",
    "kitemodel_collection = cb.log_chain_progression(unit, bounds = (4,500), points = 50, analyzer = an)\n",
    "\n",
    "poly_params = kitemodel_collection.transport_prob_model() \n",
    "custom_params = kitemodel_collection.transport_prob_model(mode = \"custom\") "
   ]
  },
  {
   "cell_type": "code",
   "execution_count": null,
   "metadata": {},
   "outputs": [],
   "source": [
    "x, data = kitemodel_collection.get_data()"
   ]
  },
  {
   "cell_type": "code",
   "execution_count": null,
   "metadata": {},
   "outputs": [],
   "source": [
    "fig, axx = plt.subplots(1,2, figsize = (10,5))\n",
    "\n",
    "axx[0].plot(x,data, marker = \".\", label = \"data\")\n",
    "axx[1].plot(x,data, marker = \".\", label = \"data\")\n",
    "\n",
    "axx[0].set_xscale(\"log\")\n",
    "axx[0].set_yscale(\"log\")\n",
    "axx[0].set_ylim(.01,1)\n",
    "\n",
    "axx[1].set_ylim(0,1)\n",
    "axx[1].set_xscale(\"log\")\n",
    "\n",
    "sample = np.geomspace(4, 500, 100)\n",
    "\n",
    "def custom_model(x,a,b,c):\n",
    "    return np.exp(a*np.log(x) + b + c/np.log(x))\n",
    "\n",
    "def poly_model(x,a,b,c):\n",
    "    return np.exp(a*(np.log(x)**2) + b*np.log(x) + c)\n",
    "\n",
    "print(custom_model(10, *custom_params))\n",
    "print(poly_model(10, *poly_params))\n",
    "\n",
    "custom_data = [custom_model(x, *custom_params) for x in sample]\n",
    "axx[0].plot(sample, custom_data, label = \"1/x model\")\n",
    "axx[1].plot(sample, custom_data, label = \"1/x model\")\n",
    "\n",
    "poly_data = [poly_model(x, *poly_params) for x in sample]\n",
    "axx[0].plot(sample, poly_data, label = \"deg2 poly\")\n",
    "axx[1].plot(sample, poly_data, label = \"deg2 poly\")\n",
    "\n",
    "axx[0].legend()\n",
    "axx[1].legend()"
   ]
  },
  {
   "cell_type": "code",
   "execution_count": null,
   "metadata": {},
   "outputs": [],
   "source": [
    "kiteCollection = cb.log_chain_progression(unit, bounds = (300,1000), points = 20, analyzer = an)\n",
    "m,q = kiteCollection.transport_prob_loglog_lm()"
   ]
  },
  {
   "cell_type": "code",
   "execution_count": null,
   "metadata": {},
   "outputs": [],
   "source": [
    "cb = CollectionBuilder()\n",
    "an = Analyzer(mode = \"first\")\n",
    "\n",
    "create_line = qwgb.Line\n",
    "line_collection = CachedQWGraphCollection(create_line, filename = \"P_first_fast\")\n",
    "\n",
    "\n",
    "selection = np.arange(700,900)\n",
    "line_collection.evaluate(selection)\n",
    "line_param = line_collection.transport_prob_loglog_lm( [ int(x) for x in np.linspace(400,500,20)])"
   ]
  },
  {
   "cell_type": "code",
   "execution_count": null,
   "metadata": {},
   "outputs": [],
   "source": [
    "selection = np.arange(5,50)\n",
    "line_collection.evaluate(selection)\n",
    "\n",
    "line_collection.offload()"
   ]
  },
  {
   "cell_type": "code",
   "execution_count": null,
   "metadata": {},
   "outputs": [],
   "source": [
    "geom_select = [ int(x) for x in np.arange(5,50)]\n",
    "\n",
    "line_collection.offload_data(select = geom_select)"
   ]
  },
  {
   "cell_type": "code",
   "execution_count": null,
   "metadata": {},
   "outputs": [],
   "source": [
    "    def C3_chain(id):\n",
    "        return QWGraphBuilder.Ring(3).chain(id)\n",
    "    def C4_chain(id):\n",
    "        return QWGraphBuilder.Ring(4).chain(id)\n",
    "    def SC_chain(id):\n",
    "        return  QWGraphBuilder.SquareCut().chain(id)\n",
    "\n",
    "    cached_C3   = CachedQWGraphCollection( create_func = C3_chain,      filename = \"C3_chain_first_fast\")\n",
    "    cached_C4   = CachedQWGraphCollection( create_func = C4_chain,      filename = \"C4_chain_first_fast\")\n",
    "    cached_DiC   = CachedQWGraphCollection( create_func = SC_chain,     filename = \"DiC4_chain_first_fast\")\n",
    "\n",
    "    selection = np.arange(500, 700)"
   ]
  },
  {
   "cell_type": "code",
   "execution_count": null,
   "metadata": {},
   "outputs": [],
   "source": [
    "    cached_C3.evaluate(selection)\n",
    "    cached_C4.evaluate(selection)\n",
    "    cached_DiC.evaluate(selection)"
   ]
  },
  {
   "cell_type": "code",
   "execution_count": null,
   "metadata": {},
   "outputs": [],
   "source": [
    "    cached_C3.offload()\n",
    "    cached_C4.offload()\n",
    "    cached_DiC.offload()"
   ]
  },
  {
   "cell_type": "code",
   "execution_count": null,
   "metadata": {},
   "outputs": [],
   "source": [
    "    base_analyzer =  Analyzer( solver_mode= \"eigen\", mode = \"first\", diag = False)\n",
    "    \n",
    "    def C4_chain(id):\n",
    "        return QWGraphBuilder.Ring(4).chain(id)\n",
    "    \n",
    "    fast_analyzer_C4 =     Analyzer( solver_mode= \"eigen\", mode = \"first\", opt_mode = \"fix\", diag = True, gr = QWGraphBuilder.Ring(4))\n",
    "    fast_analyzer_C4.set_fix_phi( opt_mode = \"smart\")\n",
    "\n",
    "    cached_C4   = CachedQWGraphCollection( create_func = C4_chain,      filename = \"C4_chain_first_fast\",   analyzer = fast_analyzer_C4)\n",
    "\n",
    "    selection = np.arange(2, 200)\n",
    "\n",
    "    cached_C4.evaluate(selection)\n",
    "\n",
    "    cached_C4.offload()\n"
   ]
  },
  {
   "cell_type": "code",
   "execution_count": null,
   "metadata": {},
   "outputs": [],
   "source": []
  }
 ],
 "metadata": {
  "kernelspec": {
   "display_name": "Python 3",
   "language": "python",
   "name": "python3"
  },
  "language_info": {
   "codemirror_mode": {
    "name": "ipython",
    "version": 3
   },
   "file_extension": ".py",
   "mimetype": "text/x-python",
   "name": "python",
   "nbconvert_exporter": "python",
   "pygments_lexer": "ipython3",
   "version": "3.10.9"
  },
  "vscode": {
   "interpreter": {
    "hash": "942e1e7e79557d2abcedf764c2c0c01ba35f758718e79340465678eaa4c8249e"
   }
  }
 },
 "nbformat": 4,
 "nbformat_minor": 2
}
