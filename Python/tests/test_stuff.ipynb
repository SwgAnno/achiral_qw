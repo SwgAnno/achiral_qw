{
 "cells": [
  {
   "cell_type": "code",
   "execution_count": 2,
   "metadata": {},
   "outputs": [],
   "source": [
    "import matplotlib.pyplot as plt\n",
    "import numpy as np\n",
    "\n",
    "import achiralqw as aqw\n",
    "\n",
    "from achiralqw.graph import QWGraph, QWGraphBuilder as qwgb\n",
    "from achiralqw.plotter import plot_qwgraph\n",
    "\n",
    "from achiralqw.article import * "
   ]
  },
  {
   "cell_type": "code",
   "execution_count": 2,
   "metadata": {},
   "outputs": [
    {
     "name": "stdout",
     "output_type": "stream",
     "text": [
      "[  5   6   7   8   9  10  11  12  13  14  15  16  18  19  20  21  23  24\n",
      "  26  27  29  31  33  35  37  39  42  45  48  51  54  57  61  65  69  73\n",
      "  78  83  88  94 100]\n",
      "C3 chain progression: Starting pool creation with 16 process\n"
     ]
    },
    {
     "name": "stderr",
     "output_type": "stream",
     "text": [
      "100%|██████████| 41/41 [00:00<00:00, 564.66it/s]"
     ]
    },
    {
     "name": "stdout",
     "output_type": "stream",
     "text": [
      "h(C3^3) collection: Starting pool evaluation with 16 process\n"
     ]
    },
    {
     "name": "stderr",
     "output_type": "stream",
     "text": [
      "\n"
     ]
    },
    {
     "name": "stdout",
     "output_type": "stream",
     "text": [
      "Data Setup\n"
     ]
    },
    {
     "name": "stderr",
     "output_type": "stream",
     "text": [
      "41it [00:00, 75.61it/s] \n"
     ]
    },
    {
     "name": "stdout",
     "output_type": "stream",
     "text": [
      "Evaluation\n"
     ]
    },
    {
     "name": "stderr",
     "output_type": "stream",
     "text": [
      "100%|██████████| 41/41 [00:01<00:00, 25.93it/s]"
     ]
    },
    {
     "name": "stdout",
     "output_type": "stream",
     "text": [
      "C4 chain progression: Starting pool creation with 16 process\n"
     ]
    },
    {
     "name": "stderr",
     "output_type": "stream",
     "text": [
      "\n",
      "100%|██████████| 41/41 [00:00<00:00, 697.50it/s]"
     ]
    },
    {
     "name": "stdout",
     "output_type": "stream",
     "text": [
      "h(C4^1) collection: Starting pool evaluation with 16 process\n"
     ]
    },
    {
     "name": "stderr",
     "output_type": "stream",
     "text": [
      "\n"
     ]
    },
    {
     "name": "stdout",
     "output_type": "stream",
     "text": [
      "Data Setup\n"
     ]
    },
    {
     "name": "stderr",
     "output_type": "stream",
     "text": [
      "41it [00:00, 63.88it/s] \n"
     ]
    },
    {
     "name": "stdout",
     "output_type": "stream",
     "text": [
      "Evaluation\n"
     ]
    },
    {
     "name": "stderr",
     "output_type": "stream",
     "text": [
      "100%|██████████| 41/41 [00:00<00:00, 43.92it/s]"
     ]
    },
    {
     "name": "stdout",
     "output_type": "stream",
     "text": [
      "DiC4 chain progression: Starting pool creation with 16 process\n"
     ]
    },
    {
     "name": "stderr",
     "output_type": "stream",
     "text": [
      "\n",
      "100%|██████████| 41/41 [00:00<00:00, 280.03it/s]"
     ]
    },
    {
     "name": "stdout",
     "output_type": "stream",
     "text": [
      "h(DiC4^3) collection: Starting pool evaluation with 16 process\n"
     ]
    },
    {
     "name": "stderr",
     "output_type": "stream",
     "text": [
      "\n"
     ]
    },
    {
     "name": "stdout",
     "output_type": "stream",
     "text": [
      "Data Setup\n"
     ]
    },
    {
     "name": "stderr",
     "output_type": "stream",
     "text": [
      "41it [00:00, 43.56it/s]\n"
     ]
    },
    {
     "name": "stdout",
     "output_type": "stream",
     "text": [
      "Evaluation\n"
     ]
    },
    {
     "name": "stderr",
     "output_type": "stream",
     "text": [
      "100%|██████████| 41/41 [00:02<00:00, 17.28it/s]\n"
     ]
    },
    {
     "name": "stdout",
     "output_type": "stream",
     "text": [
      "P progression: Starting pool creation with 16 process\n"
     ]
    },
    {
     "name": "stderr",
     "output_type": "stream",
     "text": [
      "100%|██████████| 41/41 [00:00<00:00, 2144.27it/s]"
     ]
    },
    {
     "name": "stdout",
     "output_type": "stream",
     "text": [
      "P5 collection: Starting pool evaluation with 16 process\n"
     ]
    },
    {
     "name": "stderr",
     "output_type": "stream",
     "text": [
      "\n"
     ]
    },
    {
     "name": "stdout",
     "output_type": "stream",
     "text": [
      "Data Setup\n"
     ]
    },
    {
     "name": "stderr",
     "output_type": "stream",
     "text": [
      "41it [00:00, 200.37it/s]\n"
     ]
    },
    {
     "name": "stdout",
     "output_type": "stream",
     "text": [
      "Evaluation\n"
     ]
    },
    {
     "name": "stderr",
     "output_type": "stream",
     "text": [
      "100%|██████████| 41/41 [00:03<00:00, 11.66it/s] \n"
     ]
    },
    {
     "data": {
      "text/plain": [
       "(<Figure size 600x500 with 1 Axes>, <AxesSubplot: >)"
      ]
     },
     "execution_count": 2,
     "metadata": {},
     "output_type": "execute_result"
    },
    {
     "data": {
      "image/png": "[encoded data removed]",
      "text/plain": [
       "<Figure size 600x500 with 1 Axes>"
      ]
     },
     "metadata": {},
     "output_type": "display_data"
    }
   ],
   "source": [
    "#log log progression\n",
    "an = Analyzer(mode = \"first\")\n",
    "plot_chain_progression_multi_loglog(bounds = (5,100), points = 50, target = \"p\", analyzer = an, fast = True)"
   ]
  },
  {
   "cell_type": "code",
   "execution_count": 2,
   "metadata": {},
   "outputs": [
    {
     "name": "stdout",
     "output_type": "stream",
     "text": [
      "[ 300  307  315  322  330  339  347  356  365  374  383  393  402  412\n",
      "  423  433  444  455  466  478  490  502  515  527  541  554  568  582\n",
      "  596  611  626  642  658  674  691  708  726  744  763  782  801  821\n",
      "  841  862  884  906  928  952  975 1000]\n",
      "C3 chain progression: Starting pool creation with 16 process\n"
     ]
    },
    {
     "name": "stderr",
     "output_type": "stream",
     "text": [
      "100%|██████████| 50/50 [00:28<00:00,  1.75it/s]"
     ]
    },
    {
     "name": "stdout",
     "output_type": "stream",
     "text": [
      "h(C3^298) collection: Starting pool evaluation with 16 process\n"
     ]
    },
    {
     "name": "stderr",
     "output_type": "stream",
     "text": [
      "\n"
     ]
    },
    {
     "name": "stdout",
     "output_type": "stream",
     "text": [
      "Data Setup\n"
     ]
    },
    {
     "name": "stderr",
     "output_type": "stream",
     "text": [
      "34it [01:40,  6.65s/it]"
     ]
    },
    {
     "ename": "",
     "evalue": "",
     "output_type": "error",
     "traceback": [
      "\u001b[1;31mCanceled future for execute_request message before replies were done"
     ]
    },
    {
     "ename": "",
     "evalue": "",
     "output_type": "error",
     "traceback": [
      "\u001b[1;31mThe Kernel crashed while executing code in the the current cell or a previous cell. Please review the code in the cell(s) to identify a possible cause of the failure. Click <a href='https://aka.ms/vscodeJupyterKernelCrash'>here</a> for more info. View Jupyter <a href='command:jupyter.viewOutput'>log</a> for further details."
     ]
    }
   ],
   "source": [
    "#log log progression\n",
    "an = Analyzer(mode = \"first\")\n",
    "plot_chain_progression_multi_loglog(bounds = (300,1000), points = 50, target = \"p\", analyzer = an, fast = True)"
   ]
  },
  {
   "cell_type": "code",
   "execution_count": 2,
   "metadata": {},
   "outputs": [],
   "source": [
    "#Asymptotics for C4 chains\n",
    "\n",
    "unit = QWGraphBuilder.Ring(4)\n",
    "an = Analyzer(mode = \"first\")\n",
    "an.set_opt_mode(\"fix\")\n",
    "an.set_diag(True)\n",
    "an.set_gr(unit)\n",
    "an.set_fix_phi( an.optimum_phase_smart()[0])\n",
    "\n",
    "cb = CollectionBuilder()\n"
   ]
  },
  {
   "cell_type": "code",
   "execution_count": 3,
   "metadata": {},
   "outputs": [
    {
     "name": "stdout",
     "output_type": "stream",
     "text": [
      "C4 chain progression: Starting pool creation with 16 process\n"
     ]
    },
    {
     "name": "stderr",
     "output_type": "stream",
     "text": [
      "100%|██████████| 46/46 [00:01<00:00, 31.09it/s] "
     ]
    },
    {
     "name": "stdout",
     "output_type": "stream",
     "text": [
      "h(C4^1) collection: Starting pool evaluation with 16 process\n"
     ]
    },
    {
     "name": "stderr",
     "output_type": "stream",
     "text": [
      "\n"
     ]
    },
    {
     "name": "stdout",
     "output_type": "stream",
     "text": [
      "Data Setup\n"
     ]
    },
    {
     "name": "stderr",
     "output_type": "stream",
     "text": [
      "46it [00:06,  7.23it/s]\n"
     ]
    },
    {
     "name": "stdout",
     "output_type": "stream",
     "text": [
      "Evaluation\n"
     ]
    },
    {
     "name": "stderr",
     "output_type": "stream",
     "text": [
      "100%|██████████| 46/46 [00:10<00:00,  4.39it/s]\n"
     ]
    },
    {
     "name": "stdout",
     "output_type": "stream",
     "text": [
      "ax^2:  -0.06140148388291266\n",
      "bx:  0.24657850322519428\n",
      "c:  -0.2617540277179173\n",
      "h(C4^1) collection: Starting pool evaluation with 16 process\n",
      "Data Setup\n"
     ]
    },
    {
     "name": "stderr",
     "output_type": "stream",
     "text": [
      "46it [00:05,  8.57it/s]\n"
     ]
    },
    {
     "name": "stdout",
     "output_type": "stream",
     "text": [
      "Evaluation\n"
     ]
    },
    {
     "name": "stderr",
     "output_type": "stream",
     "text": [
      "100%|██████████| 46/46 [00:11<00:00,  3.98it/s]\n"
     ]
    },
    {
     "name": "stdout",
     "output_type": "stream",
     "text": [
      "ax:  -0.39210723563774375  +-  0.000154934295694352\n",
      "b:  1.7197018164330449  +-  0.0071544720536112685\n",
      "c*1/x:  -1.7960173237450514  +-  0.015481865992172472\n"
     ]
    }
   ],
   "source": [
    "#Asymptotics model for C4 chain\n",
    "\n",
    "c4model_collection = cb.log_chain_progression(unit, bounds = (4,500), points = 50, analyzer = an)\n",
    "\n",
    "poly_params = c4model_collection.transport_prob_model() \n",
    "custom_params = c4model_collection.transport_prob_model(mode = \"custom\") "
   ]
  },
  {
   "cell_type": "code",
   "execution_count": 4,
   "metadata": {},
   "outputs": [
    {
     "name": "stdout",
     "output_type": "stream",
     "text": [
      "h(C4^1) collection: Starting pool evaluation with 16 process\n",
      "Data Setup\n"
     ]
    },
    {
     "name": "stderr",
     "output_type": "stream",
     "text": [
      "46it [00:06,  7.38it/s]\n"
     ]
    },
    {
     "name": "stdout",
     "output_type": "stream",
     "text": [
      "Evaluation\n"
     ]
    },
    {
     "name": "stderr",
     "output_type": "stream",
     "text": [
      "100%|██████████| 46/46 [00:11<00:00,  3.89it/s]\n"
     ]
    }
   ],
   "source": [
    "x, data = c4model_collection.get_data()"
   ]
  },
  {
   "cell_type": "code",
   "execution_count": 5,
   "metadata": {},
   "outputs": [
    {
     "name": "stdout",
     "output_type": "stream",
     "text": [
      "1.0375281732495474\n",
      "0.9806590304124434\n"
     ]
    },
    {
     "data": {
      "text/plain": [
       "<matplotlib.legend.Legend at 0x7f9919f4f100>"
      ]
     },
     "execution_count": 5,
     "metadata": {},
     "output_type": "execute_result"
    },
    {
     "data": {
      "image/png": "[encoded data removed]",
      "text/plain": [
       "<Figure size 1000x500 with 2 Axes>"
      ]
     },
     "metadata": {},
     "output_type": "display_data"
    }
   ],
   "source": [
    "fig, axx = plt.subplots(1,2, figsize = (10,5))\n",
    "\n",
    "axx[0].plot(x,data, marker = \".\", label = \"data\")\n",
    "axx[1].plot(x,data, marker = \".\", label = \"data\")\n",
    "\n",
    "axx[0].set_xscale(\"log\")\n",
    "axx[0].set_yscale(\"log\")\n",
    "axx[0].set_ylim(.01,1)\n",
    "\n",
    "axx[1].set_ylim(0,1)\n",
    "axx[1].set_xscale(\"log\")\n",
    "\n",
    "sample = np.geomspace(4, 500, 100)\n",
    "\n",
    "def custom_model(x,a,b,c):\n",
    "    return np.exp(a*np.log(x) + b + c/np.log(x))\n",
    "\n",
    "def poly_model(x,a,b,c):\n",
    "    return np.exp(a*(np.log(x)**2) + b*np.log(x) + c)\n",
    "\n",
    "print(custom_model(10, *custom_params))\n",
    "print(poly_model(10, *poly_params))\n",
    "\n",
    "custom_data = [custom_model(x, *custom_params) for x in sample]\n",
    "axx[0].plot(sample, custom_data, label = \"1/x model\")\n",
    "axx[1].plot(sample, custom_data, label = \"1/x model\")\n",
    "\n",
    "poly_data = [poly_model(x, *poly_params) for x in sample]\n",
    "axx[0].plot(sample, poly_data, label = \"deg2 poly\")\n",
    "axx[1].plot(sample, poly_data, label = \"deg2 poly\")\n",
    "\n",
    "axx[0].legend()\n",
    "axx[1].legend()\n"
   ]
  },
  {
   "cell_type": "code",
   "execution_count": 3,
   "metadata": {},
   "outputs": [
    {
     "name": "stdout",
     "output_type": "stream",
     "text": [
      "h(C4^149) collection: Starting pool evaluation with 16 process\n",
      "Data Setup\n"
     ]
    },
    {
     "name": "stderr",
     "output_type": "stream",
     "text": [
      "20it [00:30,  1.52s/it]\n"
     ]
    },
    {
     "name": "stdout",
     "output_type": "stream",
     "text": [
      "Evaluation\n"
     ]
    },
    {
     "name": "stderr",
     "output_type": "stream",
     "text": [
      "100%|██████████| 20/20 [17:19<00:00, 51.96s/it]\n"
     ]
    },
    {
     "name": "stdout",
     "output_type": "stream",
     "text": [
      "m:  -0.4981327880788796  +-  0.0030283330964720146\n",
      "q:  1.995253645911972  +-  0.019123151723843216\n",
      "r:  -0.9996675373090819\n"
     ]
    }
   ],
   "source": [
    "my_c = cb.log_chain_progression(unit, bounds = (300,1000), points = 20, analyzer = an)\n",
    "m,q = my_c.transport_prob_loglog_lm()"
   ]
  },
  {
   "cell_type": "code",
   "execution_count": 2,
   "metadata": {},
   "outputs": [
    {
     "name": "stdout",
     "output_type": "stream",
     "text": [
      "1.5707963267948966\n",
      "1.0 fix True\n"
     ]
    }
   ],
   "source": [
    "#Asymptotics for C3 chain\n",
    "\n",
    "unit = QWGraphBuilder.Ring(3)\n",
    "an = Analyzer(mode = \"first\")\n",
    "an.set_opt_mode(\"fix\")\n",
    "an.set_diag(True)\n",
    "an.set_gr(unit)\n",
    "an.set_fix_phi( an.optimum_phase_smart()[0])\n",
    "print(an.optimum_phase_smart()[0])\n",
    "print(an.performance_diag(an.optimum_phase_smart()[0]),an.opt_mode, an.diag)\n",
    "\n",
    "cb = CollectionBuilder()"
   ]
  },
  {
   "cell_type": "code",
   "execution_count": 11,
   "metadata": {},
   "outputs": [
    {
     "name": "stdout",
     "output_type": "stream",
     "text": [
      "C3 chain progression: Starting pool creation with 16 process\n"
     ]
    },
    {
     "name": "stderr",
     "output_type": "stream",
     "text": [
      "100%|██████████| 46/46 [00:02<00:00, 21.06it/s] \n"
     ]
    },
    {
     "name": "stdout",
     "output_type": "stream",
     "text": [
      "h(C3^2) collection: Starting pool evaluation with 16 process\n",
      "Data Setup\n"
     ]
    },
    {
     "name": "stderr",
     "output_type": "stream",
     "text": [
      "46it [00:09,  4.85it/s] \n"
     ]
    },
    {
     "name": "stdout",
     "output_type": "stream",
     "text": [
      "Evaluation\n"
     ]
    },
    {
     "name": "stderr",
     "output_type": "stream",
     "text": [
      "100%|██████████| 46/46 [00:19<00:00,  2.32it/s]\n"
     ]
    },
    {
     "name": "stdout",
     "output_type": "stream",
     "text": [
      "ax^2:  -0.0619148909963003\n",
      "bx:  0.22367287108866332\n",
      "c:  -0.21878137540972686\n",
      "h(C3^2) collection: Starting pool evaluation with 16 process\n",
      "Data Setup\n"
     ]
    },
    {
     "name": "stderr",
     "output_type": "stream",
     "text": [
      "46it [00:09,  4.82it/s]\n"
     ]
    },
    {
     "name": "stdout",
     "output_type": "stream",
     "text": [
      "Evaluation\n"
     ]
    },
    {
     "name": "stderr",
     "output_type": "stream",
     "text": [
      "100%|██████████| 46/46 [00:19<00:00,  2.40it/s]\n"
     ]
    },
    {
     "name": "stdout",
     "output_type": "stream",
     "text": [
      "ax:  -0.4321851956827108  +-  0.00013435517150128622\n",
      "b:  1.8714223879261374  +-  0.006447619482231326\n",
      "c*1/x:  -1.9709540863476147  +-  0.014891016016017092\n"
     ]
    }
   ],
   "source": [
    "#Asymptotics model for C3 chain\n",
    "\n",
    "c3model_collection = cb.log_chain_progression(unit, bounds = (4,500), points = 50, analyzer = an)\n",
    "\n",
    "poly_params = c3model_collection.transport_prob_model() \n",
    "custom_params = c3model_collection.transport_prob_model(mode = \"custom\") "
   ]
  },
  {
   "cell_type": "code",
   "execution_count": 12,
   "metadata": {},
   "outputs": [
    {
     "name": "stdout",
     "output_type": "stream",
     "text": [
      "h(C3^2) collection: Starting pool evaluation with 16 process\n",
      "Data Setup\n"
     ]
    },
    {
     "name": "stderr",
     "output_type": "stream",
     "text": [
      "46it [00:09,  4.99it/s]\n"
     ]
    },
    {
     "name": "stdout",
     "output_type": "stream",
     "text": [
      "Evaluation\n"
     ]
    },
    {
     "name": "stderr",
     "output_type": "stream",
     "text": [
      "100%|██████████| 46/46 [00:19<00:00,  2.40it/s]\n"
     ]
    }
   ],
   "source": [
    "x, data = c3model_collection.get_data()"
   ]
  },
  {
   "cell_type": "code",
   "execution_count": 13,
   "metadata": {},
   "outputs": [
    {
     "name": "stdout",
     "output_type": "stream",
     "text": [
      "1.0205122581984027\n",
      "0.9684852748612239\n"
     ]
    },
    {
     "data": {
      "text/plain": [
       "<matplotlib.legend.Legend at 0x7f98e90fad90>"
      ]
     },
     "execution_count": 13,
     "metadata": {},
     "output_type": "execute_result"
    },
    {
     "data": {
      "image/png": "[encoded data removed]",
      "text/plain": [
       "<Figure size 1000x500 with 2 Axes>"
      ]
     },
     "metadata": {},
     "output_type": "display_data"
    }
   ],
   "source": [
    "fig, axx = plt.subplots(1,2, figsize = (10,5))\n",
    "\n",
    "axx[0].plot(x,data,  marker = \".\",label = \"data\")\n",
    "axx[1].plot(x,data,  marker = \".\",label = \"data\")\n",
    "\n",
    "axx[0].set_xscale(\"log\")\n",
    "axx[0].set_yscale(\"log\")\n",
    "axx[0].set_ylim(.01,1)\n",
    "\n",
    "axx[1].set_ylim(0,1)\n",
    "axx[1].set_xscale(\"log\")\n",
    "\n",
    "sample = np.geomspace(4, 500, 100)\n",
    "\n",
    "def custom_model(x,a,b,c):\n",
    "    return np.exp(a*np.log(x) + b + c/np.log(x))\n",
    "\n",
    "def poly_model(x,a,b,c):\n",
    "    return np.exp(a*(np.log(x)**2) + b*np.log(x) + c)\n",
    "\n",
    "print(custom_model(10, *custom_params))\n",
    "print(poly_model(10, *poly_params))\n",
    "\n",
    "custom_data = [custom_model(x, *custom_params) for x in sample]\n",
    "axx[0].plot(sample, custom_data, label = \"1/x model\")\n",
    "axx[1].plot(sample, custom_data, label = \"1/x model\")\n",
    "\n",
    "poly_data = [poly_model(x, *poly_params) for x in sample]\n",
    "axx[0].plot(sample, poly_data, label = \"deg2 poly\")\n",
    "axx[1].plot(sample, poly_data, label = \"deg2 poly\")\n",
    "\n",
    "axx[0].legend()\n",
    "axx[1].legend()\n"
   ]
  },
  {
   "cell_type": "code",
   "execution_count": 4,
   "metadata": {},
   "outputs": [
    {
     "name": "stdout",
     "output_type": "stream",
     "text": [
      "C3 chain progression: Starting pool creation with 16 process\n"
     ]
    },
    {
     "name": "stderr",
     "output_type": "stream",
     "text": [
      "100%|██████████| 20/20 [00:12<00:00,  1.63it/s]"
     ]
    },
    {
     "name": "stdout",
     "output_type": "stream",
     "text": [
      "h(C3^298) collection: Starting pool evaluation with 16 process\n"
     ]
    },
    {
     "name": "stderr",
     "output_type": "stream",
     "text": [
      "\n"
     ]
    },
    {
     "name": "stdout",
     "output_type": "stream",
     "text": [
      "Data Setup\n"
     ]
    },
    {
     "name": "stderr",
     "output_type": "stream",
     "text": [
      "20it [01:05,  3.28s/it]\n"
     ]
    },
    {
     "name": "stdout",
     "output_type": "stream",
     "text": [
      "Evaluation\n"
     ]
    },
    {
     "name": "stderr",
     "output_type": "stream",
     "text": [
      "100%|██████████| 20/20 [01:57<00:00,  5.89s/it]\n"
     ]
    },
    {
     "name": "stdout",
     "output_type": "stream",
     "text": [
      "m:  -0.5154619216567503  +-  0.002782598774747101\n",
      "q:  1.9895880419483618  +-  0.017573094189750334\n",
      "r:  -0.9997378319895491\n"
     ]
    }
   ],
   "source": [
    "c3collection = cb.log_chain_progression(unit, bounds = (300,1000), points = 20, analyzer = an)\n",
    "m,q = c3collection.transport_prob_loglog_lm()"
   ]
  },
  {
   "cell_type": "code",
   "execution_count": 2,
   "metadata": {},
   "outputs": [],
   "source": [
    "#Asymptotics for kite chain\n",
    "\n",
    "unit = QWGraphBuilder.SquareCut()\n",
    "an = Analyzer(mode = \"first\")\n",
    "an.set_opt_mode(\"fix\")\n",
    "an.set_diag(True)\n",
    "an.set_gr(unit)\n",
    "an.set_fix_phi( an.optimum_phase_smart()[0])\n",
    "\n",
    "cb = CollectionBuilder()\n"
   ]
  },
  {
   "cell_type": "code",
   "execution_count": 7,
   "metadata": {},
   "outputs": [
    {
     "name": "stdout",
     "output_type": "stream",
     "text": [
      "DiC4 chain progression: Starting pool creation with 16 process\n"
     ]
    },
    {
     "name": "stderr",
     "output_type": "stream",
     "text": [
      "100%|██████████| 46/46 [00:06<00:00,  7.31it/s] "
     ]
    },
    {
     "name": "stdout",
     "output_type": "stream",
     "text": [
      "h(DiC4^2) collection: Starting pool evaluation with 16 process\n"
     ]
    },
    {
     "name": "stderr",
     "output_type": "stream",
     "text": [
      "\n"
     ]
    },
    {
     "name": "stdout",
     "output_type": "stream",
     "text": [
      "Data Setup\n"
     ]
    },
    {
     "name": "stderr",
     "output_type": "stream",
     "text": [
      "46it [00:29,  1.58it/s]\n"
     ]
    },
    {
     "name": "stdout",
     "output_type": "stream",
     "text": [
      "Evaluation\n"
     ]
    },
    {
     "name": "stderr",
     "output_type": "stream",
     "text": [
      "100%|██████████| 46/46 [00:43<00:00,  1.05it/s]\n"
     ]
    },
    {
     "name": "stdout",
     "output_type": "stream",
     "text": [
      "ax^2:  -0.05666246078807699\n",
      "bx:  0.3140660093145328\n",
      "c:  -0.5059936023740591\n",
      "h(DiC4^2) collection: Starting pool evaluation with 16 process\n",
      "Data Setup\n"
     ]
    },
    {
     "name": "stderr",
     "output_type": "stream",
     "text": [
      "46it [00:28,  1.64it/s]\n"
     ]
    },
    {
     "name": "stdout",
     "output_type": "stream",
     "text": [
      "Evaluation\n"
     ]
    },
    {
     "name": "stderr",
     "output_type": "stream",
     "text": [
      "100%|██████████| 46/46 [00:42<00:00,  1.09it/s]\n"
     ]
    },
    {
     "name": "stdout",
     "output_type": "stream",
     "text": [
      "ax:  -0.28083459335343836  +-  0.00016046804390728022\n",
      "b:  1.368000668835859  +-  0.007700759630047324\n",
      "c*1/x:  -1.7429335191508482  +-  0.017785189584653915\n"
     ]
    }
   ],
   "source": [
    "#Asymptotics model for kyte chain\n",
    "\n",
    "kitemodel_collection = cb.log_chain_progression(unit, bounds = (4,500), points = 50, analyzer = an)\n",
    "\n",
    "poly_params = kitemodel_collection.transport_prob_model() \n",
    "custom_params = kitemodel_collection.transport_prob_model(mode = \"custom\") "
   ]
  },
  {
   "cell_type": "code",
   "execution_count": 8,
   "metadata": {},
   "outputs": [
    {
     "name": "stdout",
     "output_type": "stream",
     "text": [
      "h(DiC4^2) collection: Starting pool evaluation with 16 process\n",
      "Data Setup\n"
     ]
    },
    {
     "name": "stderr",
     "output_type": "stream",
     "text": [
      "46it [00:25,  1.79it/s]\n"
     ]
    },
    {
     "name": "stdout",
     "output_type": "stream",
     "text": [
      "Evaluation\n"
     ]
    },
    {
     "name": "stderr",
     "output_type": "stream",
     "text": [
      "100%|██████████| 46/46 [00:44<00:00,  1.04it/s]\n"
     ]
    }
   ],
   "source": [
    "x, data = kitemodel_collection.get_data()"
   ]
  },
  {
   "cell_type": "code",
   "execution_count": 9,
   "metadata": {},
   "outputs": [
    {
     "name": "stdout",
     "output_type": "stream",
     "text": [
      "0.9650346330576485\n",
      "0.9201224822705769\n"
     ]
    },
    {
     "data": {
      "text/plain": [
       "<matplotlib.legend.Legend at 0x7f98b9aa4b80>"
      ]
     },
     "execution_count": 9,
     "metadata": {},
     "output_type": "execute_result"
    },
    {
     "data": {
      "image/png": "[encoded data removed]",
      "text/plain": [
       "<Figure size 1000x500 with 2 Axes>"
      ]
     },
     "metadata": {},
     "output_type": "display_data"
    }
   ],
   "source": [
    "fig, axx = plt.subplots(1,2, figsize = (10,5))\n",
    "\n",
    "axx[0].plot(x,data, marker = \".\", label = \"data\")\n",
    "axx[1].plot(x,data, marker = \".\", label = \"data\")\n",
    "\n",
    "axx[0].set_xscale(\"log\")\n",
    "axx[0].set_yscale(\"log\")\n",
    "axx[0].set_ylim(.01,1)\n",
    "\n",
    "axx[1].set_ylim(0,1)\n",
    "axx[1].set_xscale(\"log\")\n",
    "\n",
    "sample = np.geomspace(4, 500, 100)\n",
    "\n",
    "def custom_model(x,a,b,c):\n",
    "    return np.exp(a*np.log(x) + b + c/np.log(x))\n",
    "\n",
    "def poly_model(x,a,b,c):\n",
    "    return np.exp(a*(np.log(x)**2) + b*np.log(x) + c)\n",
    "\n",
    "print(custom_model(10, *custom_params))\n",
    "print(poly_model(10, *poly_params))\n",
    "\n",
    "custom_data = [custom_model(x, *custom_params) for x in sample]\n",
    "axx[0].plot(sample, custom_data, label = \"1/x model\")\n",
    "axx[1].plot(sample, custom_data, label = \"1/x model\")\n",
    "\n",
    "poly_data = [poly_model(x, *poly_params) for x in sample]\n",
    "axx[0].plot(sample, poly_data, label = \"deg2 poly\")\n",
    "axx[1].plot(sample, poly_data, label = \"deg2 poly\")\n",
    "\n",
    "axx[0].legend()\n",
    "axx[1].legend()"
   ]
  },
  {
   "cell_type": "code",
   "execution_count": 3,
   "metadata": {},
   "outputs": [
    {
     "name": "stdout",
     "output_type": "stream",
     "text": [
      "DiC4 chain progression: Starting pool creation with 16 process\n"
     ]
    },
    {
     "name": "stderr",
     "output_type": "stream",
     "text": [
      "100%|██████████| 20/20 [00:26<00:00,  1.34s/it]"
     ]
    },
    {
     "name": "stdout",
     "output_type": "stream",
     "text": [
      "h(DiC4^298) collection: Starting pool evaluation with 16 process\n"
     ]
    },
    {
     "name": "stderr",
     "output_type": "stream",
     "text": [
      "\n"
     ]
    },
    {
     "name": "stdout",
     "output_type": "stream",
     "text": [
      "Data Setup\n"
     ]
    },
    {
     "name": "stderr",
     "output_type": "stream",
     "text": [
      "20it [03:55, 11.80s/it]\n"
     ]
    },
    {
     "name": "stdout",
     "output_type": "stream",
     "text": [
      "Evaluation\n"
     ]
    },
    {
     "name": "stderr",
     "output_type": "stream",
     "text": [
      " 30%|███       | 6/20 [00:56<02:07,  9.12s/it]"
     ]
    },
    {
     "ename": "",
     "evalue": "",
     "output_type": "error",
     "traceback": [
      "\u001b[1;31mCanceled future for execute_request message before replies were done"
     ]
    },
    {
     "ename": "",
     "evalue": "",
     "output_type": "error",
     "traceback": [
      "\u001b[1;31mThe Kernel crashed while executing code in the the current cell or a previous cell. Please review the code in the cell(s) to identify a possible cause of the failure. Click <a href='https://aka.ms/vscodeJupyterKernelCrash'>here</a> for more info. View Jupyter <a href='command:jupyter.viewOutput'>log</a> for further details."
     ]
    }
   ],
   "source": [
    "kiteCollection = cb.log_chain_progression(unit, bounds = (300,1000), points = 20, analyzer = an)\n",
    "m,q = kiteCollection.transport_prob_loglog_lm()"
   ]
  },
  {
   "cell_type": "code",
   "execution_count": 5,
   "metadata": {},
   "outputs": [
    {
     "name": "stdout",
     "output_type": "stream",
     "text": [
      "P progression: Starting pool creation with 16 process\n"
     ]
    },
    {
     "name": "stderr",
     "output_type": "stream",
     "text": [
      "100%|██████████| 20/20 [00:01<00:00, 10.01it/s]\n"
     ]
    },
    {
     "name": "stdout",
     "output_type": "stream",
     "text": [
      "P300 collection: Starting pool evaluation with 16 process\n",
      "Data Setup\n"
     ]
    },
    {
     "name": "stderr",
     "output_type": "stream",
     "text": [
      "20it [00:07,  2.77it/s]\n"
     ]
    },
    {
     "name": "stdout",
     "output_type": "stream",
     "text": [
      "Evaluation\n"
     ]
    },
    {
     "name": "stderr",
     "output_type": "stream",
     "text": [
      "100%|██████████| 20/20 [00:26<00:00,  1.31s/it]\n"
     ]
    },
    {
     "name": "stdout",
     "output_type": "stream",
     "text": [
      "m:  -0.6293224030904141  +-  0.0009508888997840026\n",
      "q:  1.6943487168184386  +-  0.006003382391947876\n",
      "r:  -0.9999794532898261\n"
     ]
    }
   ],
   "source": [
    "cb = CollectionBuilder()\n",
    "an = Analyzer(mode = \"first\")\n",
    "line_collection = cb.log_progression(\"P\", bounds = (300,1000), points = 20, analyzer = an)\n",
    "line_param = line_collection.transport_prob_loglog_lm()"
   ]
  },
  {
   "cell_type": "code",
   "execution_count": null,
   "metadata": {},
   "outputs": [],
   "source": []
  }
 ],
 "metadata": {
  "kernelspec": {
   "display_name": "Python 3.9.12 ('base')",
   "language": "python",
   "name": "python3"
  },
  "language_info": {
   "codemirror_mode": {
    "name": "ipython",
    "version": 3
   },
   "file_extension": ".py",
   "mimetype": "text/x-python",
   "name": "python",
   "nbconvert_exporter": "python",
   "pygments_lexer": "ipython3",
   "version": "3.9.12"
  },
  "orig_nbformat": 4,
  "vscode": {
   "interpreter": {
    "hash": "942e1e7e79557d2abcedf764c2c0c01ba35f758718e79340465678eaa4c8249e"
   }
  }
 },
 "nbformat": 4,
 "nbformat_minor": 2
}
