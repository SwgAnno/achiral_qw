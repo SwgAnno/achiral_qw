{
 "cells": [
  {
   "cell_type": "code",
   "execution_count": 106,
   "metadata": {},
   "outputs": [],
   "source": [
    "import matplotlib.pyplot as plt\n",
    "import numpy as np\n",
    "import networkx as nx\n",
    "\n",
    "import achiralqw as aqw\n",
    "import scipy.sparse as sparse\n",
    "\n",
    "from achiralqw.graph import QWGraph, QWGraphBuilder as qwgb\n",
    "from achiralqw.plotter import plot_qwgraph\n",
    "from achiralqw.collection import CachedQWGraphCollection\n",
    "\n",
    "from achiralqw.article import * "
   ]
  },
  {
   "cell_type": "code",
   "execution_count": 113,
   "metadata": {},
   "outputs": [],
   "source": [
    "N= 20\n",
    "\n",
    "smat = sparse.dok_matrix((N,N), dtype = \"complex\")\n",
    "ring = sparse.identity(N, dtype = \"complex\", format = \"dok\")*4"
   ]
  },
  {
   "cell_type": "code",
   "execution_count": 114,
   "metadata": {},
   "outputs": [
    {
     "name": "stdout",
     "output_type": "stream",
     "text": [
      "0j\n",
      "(4+0j)\n"
     ]
    },
    {
     "data": {
      "text/plain": [
       "20"
      ]
     },
     "execution_count": 114,
     "metadata": {},
     "output_type": "execute_result"
    }
   ],
   "source": [
    "print(smat[0,0])\n",
    "print(ring[3,3])\n",
    "\n",
    "ring.shape[1]"
   ]
  },
  {
   "cell_type": "code",
   "execution_count": 115,
   "metadata": {},
   "outputs": [],
   "source": [
    "for i in range(N):\n",
    "    ring[i,(i+1)%N] = complex(-1)\n",
    "    ring[(i+1)%N,i] = complex(-1)"
   ]
  },
  {
   "cell_type": "code",
   "execution_count": 116,
   "metadata": {},
   "outputs": [
    {
     "name": "stdout",
     "output_type": "stream",
     "text": [
      "(20, 20)\n",
      "[[ 4.+0.j -1.+0.j  0.+0.j  0.+0.j  0.+0.j  0.+0.j  0.+0.j  0.+0.j  0.+0.j\n",
      "   0.+0.j  0.+0.j  0.+0.j  0.+0.j  0.+0.j  0.+0.j  0.+0.j  0.+0.j  0.+0.j\n",
      "   0.+0.j -1.+0.j]\n",
      " [-1.+0.j  4.+0.j -1.+0.j  0.+0.j  0.+0.j  0.+0.j  0.+0.j  0.+0.j  0.+0.j\n",
      "   0.+0.j  0.+0.j  0.+0.j  0.+0.j  0.+0.j  0.+0.j  0.+0.j  0.+0.j  0.+0.j\n",
      "   0.+0.j  0.+0.j]\n",
      " [ 0.+0.j -1.+0.j  4.+0.j -1.+0.j  0.+0.j  0.+0.j  0.+0.j  0.+0.j  0.+0.j\n",
      "   0.+0.j  0.+0.j  0.+0.j  0.+0.j  0.+0.j  0.+0.j  0.+0.j  0.+0.j  0.+0.j\n",
      "   0.+0.j  0.+0.j]\n",
      " [ 0.+0.j  0.+0.j -1.+0.j  4.+0.j -1.+0.j  0.+0.j  0.+0.j  0.+0.j  0.+0.j\n",
      "   0.+0.j  0.+0.j  0.+0.j  0.+0.j  0.+0.j  0.+0.j  0.+0.j  0.+0.j  0.+0.j\n",
      "   0.+0.j  0.+0.j]\n",
      " [ 0.+0.j  0.+0.j  0.+0.j -1.+0.j  4.+0.j -1.+0.j  0.+0.j  0.+0.j  0.+0.j\n",
      "   0.+0.j  0.+0.j  0.+0.j  0.+0.j  0.+0.j  0.+0.j  0.+0.j  0.+0.j  0.+0.j\n",
      "   0.+0.j  0.+0.j]\n",
      " [ 0.+0.j  0.+0.j  0.+0.j  0.+0.j -1.+0.j  4.+0.j -1.+0.j  0.+0.j  0.+0.j\n",
      "   0.+0.j  0.+0.j  0.+0.j  0.+0.j  0.+0.j  0.+0.j  0.+0.j  0.+0.j  0.+0.j\n",
      "   0.+0.j  0.+0.j]\n",
      " [ 0.+0.j  0.+0.j  0.+0.j  0.+0.j  0.+0.j -1.+0.j  4.+0.j -1.+0.j  0.+0.j\n",
      "   0.+0.j  0.+0.j  0.+0.j  0.+0.j  0.+0.j  0.+0.j  0.+0.j  0.+0.j  0.+0.j\n",
      "   0.+0.j  0.+0.j]\n",
      " [ 0.+0.j  0.+0.j  0.+0.j  0.+0.j  0.+0.j  0.+0.j -1.+0.j  4.+0.j -1.+0.j\n",
      "   0.+0.j  0.+0.j  0.+0.j  0.+0.j  0.+0.j  0.+0.j  0.+0.j  0.+0.j  0.+0.j\n",
      "   0.+0.j  0.+0.j]\n",
      " [ 0.+0.j  0.+0.j  0.+0.j  0.+0.j  0.+0.j  0.+0.j  0.+0.j -1.+0.j  4.+0.j\n",
      "  -1.+0.j  0.+0.j  0.+0.j  0.+0.j  0.+0.j  0.+0.j  0.+0.j  0.+0.j  0.+0.j\n",
      "   0.+0.j  0.+0.j]\n",
      " [ 0.+0.j  0.+0.j  0.+0.j  0.+0.j  0.+0.j  0.+0.j  0.+0.j  0.+0.j -1.+0.j\n",
      "   4.+0.j -1.+0.j  0.+0.j  0.+0.j  0.+0.j  0.+0.j  0.+0.j  0.+0.j  0.+0.j\n",
      "   0.+0.j  0.+0.j]\n",
      " [ 0.+0.j  0.+0.j  0.+0.j  0.+0.j  0.+0.j  0.+0.j  0.+0.j  0.+0.j  0.+0.j\n",
      "  -1.+0.j  4.+0.j -1.+0.j  0.+0.j  0.+0.j  0.+0.j  0.+0.j  0.+0.j  0.+0.j\n",
      "   0.+0.j  0.+0.j]\n",
      " [ 0.+0.j  0.+0.j  0.+0.j  0.+0.j  0.+0.j  0.+0.j  0.+0.j  0.+0.j  0.+0.j\n",
      "   0.+0.j -1.+0.j  4.+0.j -1.+0.j  0.+0.j  0.+0.j  0.+0.j  0.+0.j  0.+0.j\n",
      "   0.+0.j  0.+0.j]\n",
      " [ 0.+0.j  0.+0.j  0.+0.j  0.+0.j  0.+0.j  0.+0.j  0.+0.j  0.+0.j  0.+0.j\n",
      "   0.+0.j  0.+0.j -1.+0.j  4.+0.j -1.+0.j  0.+0.j  0.+0.j  0.+0.j  0.+0.j\n",
      "   0.+0.j  0.+0.j]\n",
      " [ 0.+0.j  0.+0.j  0.+0.j  0.+0.j  0.+0.j  0.+0.j  0.+0.j  0.+0.j  0.+0.j\n",
      "   0.+0.j  0.+0.j  0.+0.j -1.+0.j  4.+0.j -1.+0.j  0.+0.j  0.+0.j  0.+0.j\n",
      "   0.+0.j  0.+0.j]\n",
      " [ 0.+0.j  0.+0.j  0.+0.j  0.+0.j  0.+0.j  0.+0.j  0.+0.j  0.+0.j  0.+0.j\n",
      "   0.+0.j  0.+0.j  0.+0.j  0.+0.j -1.+0.j  4.+0.j -1.+0.j  0.+0.j  0.+0.j\n",
      "   0.+0.j  0.+0.j]\n",
      " [ 0.+0.j  0.+0.j  0.+0.j  0.+0.j  0.+0.j  0.+0.j  0.+0.j  0.+0.j  0.+0.j\n",
      "   0.+0.j  0.+0.j  0.+0.j  0.+0.j  0.+0.j -1.+0.j  4.+0.j -1.+0.j  0.+0.j\n",
      "   0.+0.j  0.+0.j]\n",
      " [ 0.+0.j  0.+0.j  0.+0.j  0.+0.j  0.+0.j  0.+0.j  0.+0.j  0.+0.j  0.+0.j\n",
      "   0.+0.j  0.+0.j  0.+0.j  0.+0.j  0.+0.j  0.+0.j -1.+0.j  4.+0.j -1.+0.j\n",
      "   0.+0.j  0.+0.j]\n",
      " [ 0.+0.j  0.+0.j  0.+0.j  0.+0.j  0.+0.j  0.+0.j  0.+0.j  0.+0.j  0.+0.j\n",
      "   0.+0.j  0.+0.j  0.+0.j  0.+0.j  0.+0.j  0.+0.j  0.+0.j -1.+0.j  4.+0.j\n",
      "  -1.+0.j  0.+0.j]\n",
      " [ 0.+0.j  0.+0.j  0.+0.j  0.+0.j  0.+0.j  0.+0.j  0.+0.j  0.+0.j  0.+0.j\n",
      "   0.+0.j  0.+0.j  0.+0.j  0.+0.j  0.+0.j  0.+0.j  0.+0.j  0.+0.j -1.+0.j\n",
      "   4.+0.j -1.+0.j]\n",
      " [-1.+0.j  0.+0.j  0.+0.j  0.+0.j  0.+0.j  0.+0.j  0.+0.j  0.+0.j  0.+0.j\n",
      "   0.+0.j  0.+0.j  0.+0.j  0.+0.j  0.+0.j  0.+0.j  0.+0.j  0.+0.j  0.+0.j\n",
      "  -1.+0.j  4.+0.j]]\n"
     ]
    }
   ],
   "source": [
    "print(ring.get_shape())\n",
    "print(ring.todense())"
   ]
  },
  {
   "cell_type": "code",
   "execution_count": 117,
   "metadata": {},
   "outputs": [
    {
     "name": "stdout",
     "output_type": "stream",
     "text": [
      "[2.         2.09788697 2.09788697 2.38196601 2.38196601 2.8244295\n",
      " 2.8244295  3.38196601 3.38196601 4.         4.         4.61803399\n",
      " 4.61803399 5.1755705  5.1755705  5.61803399 5.61803399 5.90211303\n",
      " 5.90211303 6.        ]\n",
      "[6.         5.90211303 5.61803399 5.1755705  4.61803399 4.\n",
      " 3.38196601 2.09788697 2.38196601 2.8244295  2.38196601 2.8244295\n",
      " 3.38196601 5.90211303 5.61803399 4.         4.61803399 5.1755705 ]\n"
     ]
    },
    {
     "data": {
      "text/plain": [
       "array([[6.        ],\n",
       "       [5.90211303],\n",
       "       [5.61803399],\n",
       "       [5.1755705 ],\n",
       "       [4.61803399],\n",
       "       [4.        ],\n",
       "       [3.38196601],\n",
       "       [2.09788697],\n",
       "       [2.38196601],\n",
       "       [2.8244295 ],\n",
       "       [2.38196601],\n",
       "       [2.8244295 ],\n",
       "       [3.38196601],\n",
       "       [5.90211303],\n",
       "       [5.61803399],\n",
       "       [4.        ],\n",
       "       [4.61803399],\n",
       "       [5.1755705 ]])"
      ]
     },
     "execution_count": 117,
     "metadata": {},
     "output_type": "execute_result"
    }
   ],
   "source": [
    "sval, svec = sparse.linalg.eigsh(ring, k = N-2)\n",
    "val, vec = np.linalg.eigh(ring.todense())\n",
    "\n",
    "print(val)\n",
    "print(sval)\n",
    "\n",
    "np.reshape(sval, (N-2,1))"
   ]
  },
  {
   "cell_type": "code",
   "execution_count": 126,
   "metadata": {},
   "outputs": [
    {
     "data": {
      "image/png": "[encoded data removed]",
      "text/plain": [
       "<Figure size 432x288 with 1 Axes>"
      ]
     },
     "metadata": {},
     "output_type": "display_data"
    },
    {
     "name": "stdout",
     "output_type": "stream",
     "text": [
      "[[ 0.  0.  0.  0.  0.  0.  0.  0.  0.  0.  0.  0.  0.  0.  0.  0.  0.  0.\n",
      "   0.  0.]\n",
      " [-1.  0. -1.  0.  0.  0.  0.  0.  0.  0.  0.  0.  0.  0.  0.  0.  0.  0.\n",
      "   0.  0.]\n",
      " [ 0.  0.  0.  0.  0.  0.  0.  0.  0.  0.  0.  0.  0.  0.  0.  0.  0.  0.\n",
      "   0.  0.]\n",
      " [ 0.  0. -1.  0. -1.  0.  0.  0.  0.  0.  0.  0.  0.  0.  0.  0.  0.  0.\n",
      "   0.  0.]\n",
      " [ 0.  0.  0.  0.  0. -1.  0.  0.  0.  0.  0.  0.  0.  0.  0.  0.  0.  0.\n",
      "   0.  0.]\n",
      " [ 0.  0.  0.  0.  0.  0.  0.  0.  0.  0.  0.  0.  0.  0.  0.  0.  0.  0.\n",
      "   0.  0.]\n",
      " [ 0.  0.  0.  0.  0. -1.  0.  0.  0.  0.  0.  0.  0.  0.  0.  0.  0.  0.\n",
      "   0.  0.]\n",
      " [ 0.  0.  0.  0.  0.  0.  0.  0.  0.  0.  0.  0.  0.  0.  0.  0.  0.  0.\n",
      "   0.  0.]\n",
      " [ 0.  0.  0.  0.  0.  0.  0. -1.  0.  0.  0.  0.  0.  0.  0.  0.  0.  0.\n",
      "   0.  0.]\n",
      " [ 0.  0.  0.  0.  0.  0.  0.  0. -1.  0. -1.  0.  0.  0.  0.  0.  0.  0.\n",
      "   0.  0.]\n",
      " [ 0.  0.  0.  0.  0.  0.  0.  0.  0.  0.  0. -1.  0.  0.  0.  0.  0.  0.\n",
      "   0.  0.]\n",
      " [ 0.  0.  0.  0.  0.  0.  0.  0.  0.  0.  0.  0. -1.  0.  0.  0.  0.  0.\n",
      "   0.  0.]\n",
      " [ 0.  0.  0.  0.  0.  0.  0.  0.  0.  0.  0.  0.  0. -1.  0.  0.  0.  0.\n",
      "   0.  0.]\n",
      " [ 0.  0.  0.  0.  0.  0.  0.  0.  0.  0.  0.  0.  0.  0. -1.  0.  0.  0.\n",
      "   0.  0.]\n",
      " [ 0.  0.  0.  0.  0.  0.  0.  0.  0.  0.  0.  0.  0.  0.  0. -1.  0.  0.\n",
      "   0.  0.]\n",
      " [ 0.  0.  0.  0.  0.  0.  0.  0.  0.  0.  0.  0.  0.  0.  0.  0. -1.  0.\n",
      "   0.  0.]\n",
      " [ 0.  0.  0.  0.  0.  0.  0.  0.  0.  0.  0.  0.  0.  0.  0.  0.  0. -1.\n",
      "   0.  0.]\n",
      " [ 0.  0.  0.  0.  0.  0.  0.  0.  0.  0.  0.  0.  0.  0.  0.  0.  0.  0.\n",
      "  -1.  0.]\n",
      " [ 0.  0.  0.  0.  0.  0.  0.  0.  0.  0.  0.  0.  0.  0.  0.  0.  0.  0.\n",
      "   0.  0.]\n",
      " [-1.  0.  0.  0.  0.  0.  0.  0.  0.  0.  0.  0.  0.  0.  0.  0.  0.  0.\n",
      "  -1.  0.]]\n"
     ]
    },
    {
     "data": {
      "image/png": "[encoded data removed]",
      "text/plain": [
       "<Figure size 432x288 with 1 Axes>"
      ]
     },
     "metadata": {},
     "output_type": "display_data"
    },
    {
     "name": "stdout",
     "output_type": "stream",
     "text": [
      "(1, 0)\n",
      "(1, 2)\n",
      "(3, 2)\n",
      "(3, 4)\n",
      "(4, 5)\n",
      "(6, 5)\n",
      "(8, 7)\n",
      "(9, 8)\n",
      "(9, 10)\n",
      "(10, 11)\n",
      "(11, 12)\n",
      "(12, 13)\n",
      "(13, 14)\n",
      "(14, 15)\n",
      "(15, 16)\n",
      "(16, 17)\n",
      "(17, 18)\n",
      "(19, 18)\n",
      "(19, 0)\n"
     ]
    }
   ],
   "source": [
    "def to_adjacency(mat):\n",
    "    \n",
    "    out = sparse.dok_matrix(mat.shape, dtype = \"int\")\n",
    "    \n",
    "    for k in mat.keys():\n",
    "        if k[0] != k[1]:\n",
    "            out[k] = 1\n",
    "            \n",
    "    return out\n",
    "        \n",
    "mat = to_adjacency(ring)\n",
    "nx.draw_kamada_kawai(nx.from_numpy_matrix(mat.todense()))\n",
    "plt.show()\n",
    "\n",
    "\n",
    "mst = sparse.csgraph.minimum_spanning_tree(ring).todok()\n",
    "print(mst.todense())\n",
    "nx.draw_circular(nx.from_numpy_matrix(mst.todense()))\n",
    "plt.show()\n",
    "for edge in ring.keys():\n",
    "    if abs(mst[edge]) > 1e-6 :\n",
    "        print(edge)\n",
    "        \n",
    "        \n",
    "        \n"
   ]
  },
  {
   "cell_type": "code",
   "execution_count": 142,
   "metadata": {},
   "outputs": [
    {
     "name": "stdout",
     "output_type": "stream",
     "text": [
      "[[0 1 0 0 0 0 0 0 0 0 0 0 0 0 0 0 0 0 0 0]\n",
      " [1 0 1 0 0 0 0 0 0 0 0 0 0 0 0 0 0 0 0 0]\n",
      " [0 1 0 1 0 0 0 0 0 0 0 0 0 0 0 0 0 0 0 0]\n",
      " [0 0 1 0 1 0 0 0 0 0 0 0 0 0 0 0 0 0 0 0]\n",
      " [0 0 0 1 0 1 0 0 0 0 0 0 0 0 0 0 0 0 0 0]\n",
      " [0 0 0 0 1 0 1 0 0 0 0 0 0 0 0 0 0 0 0 0]\n",
      " [0 0 0 0 0 1 0 1 0 0 0 0 0 0 0 0 0 0 0 0]\n",
      " [0 0 0 0 0 0 1 0 1 0 0 0 0 0 0 0 0 0 0 0]\n",
      " [0 0 0 0 0 0 0 1 0 1 0 0 0 0 0 0 0 0 0 0]\n",
      " [0 0 0 0 0 0 0 0 1 0 1 0 0 0 0 0 0 0 0 0]\n",
      " [0 0 0 0 0 0 0 0 0 1 0 1 0 0 0 0 0 0 0 0]\n",
      " [0 0 0 0 0 0 0 0 0 0 1 0 1 0 0 0 0 0 0 0]\n",
      " [0 0 0 0 0 0 0 0 0 0 0 1 0 1 0 0 0 0 0 0]\n",
      " [0 0 0 0 0 0 0 0 0 0 0 0 1 0 1 0 0 0 0 0]\n",
      " [0 0 0 0 0 0 0 0 0 0 0 0 0 1 0 1 0 0 0 0]\n",
      " [0 0 0 0 0 0 0 0 0 0 0 0 0 0 1 0 1 0 0 0]\n",
      " [0 0 0 0 0 0 0 0 0 0 0 0 0 0 0 1 0 1 0 0]\n",
      " [0 0 0 0 0 0 0 0 0 0 0 0 0 0 0 0 1 0 1 0]\n",
      " [0 0 0 0 0 0 0 0 0 0 0 0 0 0 0 0 0 1 0 1]\n",
      " [0 0 0 0 0 0 0 0 0 0 0 0 0 0 0 0 0 0 1 0]]\n"
     ]
    },
    {
     "data": {
      "image/png": "[encoded data removed]",
      "text/plain": [
       "<Figure size 432x288 with 1 Axes>"
      ]
     },
     "metadata": {},
     "output_type": "display_data"
    },
    {
     "name": "stdout",
     "output_type": "stream",
     "text": [
      "(19, 0)\n"
     ]
    }
   ],
   "source": [
    "def sparse_mst( smat ):\n",
    "    #do it yourself implementation of kruskal algorithm for a 01 adjacency matrix\n",
    "    #suited for dok matrices\n",
    "    \n",
    "    #union find parent list\n",
    "    par = np.arange(0,smat.shape[0])\n",
    "    \n",
    "    out = sparse.dok_matrix(smat.shape, dtype = \"int\")\n",
    "    \n",
    "    #primitives for union-find\n",
    "    def same(a,b) ->bool :\n",
    "        \n",
    "        p1 = par[a]\n",
    "        while p1 != par[p1] :\n",
    "            p1 = par[p1]\n",
    "            par[a] = p1\n",
    "        \n",
    "        p2 = par[b]\n",
    "        while p2 != par[p2] :\n",
    "            p2 = par[p2]\n",
    "            par[b] = p2\n",
    "            \n",
    "        #print( \"same {} {}\\t\".format(a,b), par)\n",
    "        return p1 == p2\n",
    "        \n",
    "    def join(a,b) -> None :\n",
    "        \n",
    "        p1 = par[a]\n",
    "        while p1 != par[p1] :\n",
    "            p1 = par[p1]\n",
    "            par[a] = p1\n",
    "        \n",
    "        p2 = par[b]\n",
    "        while p2 != par[p2] :\n",
    "            p2 = par[p2]\n",
    "            par[b] = p2\n",
    "            \n",
    "        par[p2] = p1\n",
    "        \n",
    "    for edge in smat.keys():\n",
    "        if not same(edge[0], edge[1]):\n",
    "            join(edge[0], edge[1])\n",
    "            out[edge] = 1\n",
    "            out[edge[1],edge[0]] = 1\n",
    "            \n",
    "    return out\n",
    "\n",
    "my_mst = sparse_mst(ring)\n",
    "print(my_mst.todense())\n",
    "nx.draw_circular(nx.from_numpy_matrix(my_mst.todense()))\n",
    "plt.show()\n",
    "\n",
    "for edge in ring.keys():\n",
    "    if edge[0] > edge[1] and my_mst[edge] == 0 :\n",
    "        print(edge)\n",
    "    "
   ]
  },
  {
   "cell_type": "code",
   "execution_count": 146,
   "metadata": {},
   "outputs": [
    {
     "data": {
      "text/plain": [
       "array([ 3.,  2.,  1.,  0.,  1.,  2.,  3.,  4.,  5.,  6.,  7.,  8.,  9.,\n",
       "       10., 11., 12., 13., 14., 15., 16.])"
      ]
     },
     "execution_count": 146,
     "metadata": {},
     "output_type": "execute_result"
    }
   ],
   "source": [
    "a = my_mst\n",
    "\n",
    "sparse.csgraph.shortest_path(a, method = \"D\", directed = False, unweighted= True, indices = 3)"
   ]
  },
  {
   "cell_type": "code",
   "execution_count": 71,
   "metadata": {},
   "outputs": [
    {
     "name": "stdout",
     "output_type": "stream",
     "text": [
      "  (0, 0)\t(-1+0j)\n",
      "  (0, 1)\t(4+0j)\n",
      "  (1, 1)\t(-1+0j)\n",
      "  (6, 0)\t(-1+0j)\n",
      "  (7, 0)\t(4+0j)\n",
      "  (7, 1)\t(-1+0j)\n",
      "[[-1.+0.j  4.+0.j]\n",
      " [ 0.+0.j -1.+0.j]\n",
      " [ 0.+0.j  0.+0.j]\n",
      " [ 0.+0.j  0.+0.j]\n",
      " [ 0.+0.j  0.+0.j]\n",
      " [ 0.+0.j  0.+0.j]\n",
      " [-1.+0.j  0.+0.j]\n",
      " [ 4.+0.j -1.+0.j]]\n",
      "  (0, 0)\t(4+0j)\n",
      "  (0, 1)\t(-1+0j)\n",
      "  (1, 0)\t(-1+0j)\n",
      "  (6, 1)\t(-1+0j)\n",
      "  (7, 0)\t(-1+0j)\n",
      "  (7, 1)\t(4+0j)\n",
      "[[ 4.+0.j -1.+0.j]\n",
      " [-1.+0.j  0.+0.j]\n",
      " [ 0.+0.j  0.+0.j]\n",
      " [ 0.+0.j  0.+0.j]\n",
      " [ 0.+0.j  0.+0.j]\n",
      " [ 0.+0.j  0.+0.j]\n",
      " [ 0.+0.j -1.+0.j]\n",
      " [-1.+0.j  4.+0.j]]\n",
      "[[ 4.+0.j -1.+0.j  0.+0.j  0.+0.j  0.+0.j  0.+0.j  0.+0.j -1.+0.j]\n",
      " [-1.+0.j  4.+0.j -1.+0.j  0.+0.j  0.+0.j  0.+0.j  0.+0.j  0.+0.j]\n",
      " [ 0.+0.j -1.+0.j  4.+0.j -1.+0.j  0.+0.j  0.+0.j  0.+0.j  0.+0.j]\n",
      " [ 0.+0.j  0.+0.j -1.+0.j  4.+0.j -1.+0.j  0.+0.j  0.+0.j  0.+0.j]\n",
      " [ 0.+0.j  0.+0.j  0.+0.j -1.+0.j  4.+0.j -1.+0.j  0.+0.j  0.+0.j]\n",
      " [ 0.+0.j  0.+0.j  0.+0.j  0.+0.j -1.+0.j  4.+0.j -1.+0.j  0.+0.j]\n",
      " [ 0.+0.j  0.+0.j  0.+0.j  0.+0.j  0.+0.j -1.+0.j  4.+0.j -1.+0.j]\n",
      " [-1.+0.j  0.+0.j  0.+0.j  0.+0.j  0.+0.j  0.+0.j -1.+0.j  4.+0.j]]\n"
     ]
    }
   ],
   "source": [
    "target = 6\n",
    "\n",
    "print( ring[:,[0,7]])\n",
    "print( ring.todense()[:,[0,7]])\n",
    "    \n",
    "ring[:,[0,7]] = ring[:,[7, 0]]\n",
    "\n",
    "print( ring[:,[0,7]])\n",
    "print( ring.todense()[:,[0,7]])\n",
    "\n",
    "print(ring.todense())"
   ]
  },
  {
   "cell_type": "code",
   "execution_count": null,
   "metadata": {},
   "outputs": [],
   "source": []
  }
 ],
 "metadata": {
  "kernelspec": {
   "display_name": "Python 3",
   "language": "python",
   "name": "python3"
  },
  "language_info": {
   "codemirror_mode": {
    "name": "ipython",
    "version": 3
   },
   "file_extension": ".py",
   "mimetype": "text/x-python",
   "name": "python",
   "nbconvert_exporter": "python",
   "pygments_lexer": "ipython3",
   "version": "3.6.9"
  }
 },
 "nbformat": 4,
 "nbformat_minor": 4
}
