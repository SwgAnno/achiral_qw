{
 "cells": [
  {
   "cell_type": "code",
   "execution_count": null,
   "metadata": {},
   "outputs": [],
   "source": [
    "import matplotlib.pyplot as plt\n",
    "import numpy as np\n",
    "\n",
    "import achiralqw as aqw\n",
    "\n",
    "from achiralqw.graph import QWGraph, QWGraphBuilder as qwgb\n",
    "from achiralqw.plotter import plot_qwgraph"
   ]
  },
  {
   "cell_type": "code",
   "execution_count": null,
   "metadata": {},
   "outputs": [],
   "source": [
    "#create a Ring Graph\n",
    "first_graph = qwgb.Ring(6)\n",
    "\n",
    "#get properties\n",
    "print(\"Graph codename: {}\".format(first_graph.code))\n",
    "print(\"Number of Nodes {}\".format(first_graph.N))\n",
    "print(\"Number of Free phases {}\".format(first_graph.get_phase_n()))\n",
    "print(\"Phase condensation links : {}\".format( first_graph.re_coord))\n",
    "print(\"Start state : {} // Target state : {}\".format(first_graph.start, first_graph.target))\n",
    "fig, ax = plt.subplots(1,1, figsize= (5,5))\n",
    "\n",
    "plot_qwgraph(first_graph)\n"
   ]
  },
  {
   "cell_type": "code",
   "execution_count": null,
   "metadata": {},
   "outputs": [],
   "source": [
    "\n",
    "#states have a fuzzy labelling order: for manipulation efficiency the target site has to be the last entry of the matrix\n",
    "print(\"Hamiltonian :\")\n",
    "print(first_graph.mat)\n"
   ]
  },
  {
   "cell_type": "code",
   "execution_count": null,
   "metadata": {},
   "outputs": [],
   "source": [
    "\n",
    "#compute eigenvectors and values of the Laplacian \n",
    "first_graph.update_eigen()\n",
    "print(\"Eigenvectors :\")\n",
    "print(first_graph.eig_vec)\n",
    "\n",
    "print(\"Eigenvalues :\")\n",
    "print(first_graph.eig_val)\n"
   ]
  },
  {
   "cell_type": "code",
   "execution_count": null,
   "metadata": {},
   "outputs": [],
   "source": [
    "test = QWGraph(3)\n",
    "\n",
    "#create ring an line graphs\n",
    "line = qwgb.Line(7)\n",
    "ring = qwgb.Ring(4)\n",
    "#may add handles\n",
    "hring = qwgb.Ring(5, HANDLES = True)\n",
    "\n",
    "\n",
    "#can add or concatenate\n",
    "with_link = qwgb.Ring(3) + qwgb.Ring(5) \n",
    "no_link = qwgb.Ring(3) | qwgb.Ring(5)\n",
    "\n",
    "#add an edge to the graph\n",
    "cut_ring = qwgb.Ring(5).cut([(2,4)])\n",
    "\n",
    "#or even create a longer chain\n",
    "a_chain = ring.chain(10)\n",
    "\n",
    "test_graphs = [test, line, ring ,hring, with_link, no_link, cut_ring, a_chain]\n",
    "\n",
    "fig, axx = plt.subplots(3,3, figsize = (9,9))\n",
    "\n",
    "\n",
    "for gr, ax in zip(test_graphs, axx.flat):\n",
    "    plot_qwgraph(gr,ax = ax)\n",
    "    "
   ]
  },
  {
   "cell_type": "code",
   "execution_count": null,
   "metadata": {},
   "outputs": [],
   "source": [
    "#change phase in the relevant links\n",
    "\n",
    "#create a 3 free phase graphs\n",
    "\n",
    "phase3 = qwgb.Ring(4).chain(3, HANDLES = True)\n",
    "\n",
    "print(\"Condensed phase link : {}\".format(phase3.re_coord))\n",
    "\n",
    "# vector of phases to apply in radians\n",
    "new_phases = [.5*np.pi, np.pi, 1.5*np.pi]\n",
    "phase3.rephase(new_phases)\n",
    "\n",
    "print(\"Laplacian :\")\n",
    "print(\"L[3][4]  and L[4][3] (c.c)\\t: {} {}\".format(phase3.mat[3,4], phase3.mat[4,3]))\n",
    "print(\"L[6][7]  and L[7][6]\\t\\t: {} {}\".format(phase3.mat[3,4], phase3.mat[4,3]))\n",
    "print(\"L[9][10] and L[10][9]\\t\\t: {} {}\".format(phase3.mat[3,4], phase3.mat[4,3]))"
   ]
  },
  {
   "cell_type": "code",
   "execution_count": null,
   "metadata": {},
   "outputs": [],
   "source": []
  },
  {
   "cell_type": "code",
   "execution_count": null,
   "metadata": {},
   "outputs": [],
   "source": []
  },
  {
   "cell_type": "code",
   "execution_count": null,
   "metadata": {},
   "outputs": [],
   "source": []
  }
 ],
 "metadata": {
  "kernelspec": {
   "display_name": "base",
   "language": "python",
   "name": "python3"
  },
  "language_info": {
   "codemirror_mode": {
    "name": "ipython",
    "version": 3
   },
   "file_extension": ".py",
   "mimetype": "text/x-python",
   "name": "python",
   "nbconvert_exporter": "python",
   "pygments_lexer": "ipython3",
   "version": "3.10.9"
  },
  "vscode": {
   "interpreter": {
    "hash": "79b267b7fc78b6000071e72bbf77657515b8570774b82d2896135b4d9ecb257c"
   }
  }
 },
 "nbformat": 4,
 "nbformat_minor": 2
}
